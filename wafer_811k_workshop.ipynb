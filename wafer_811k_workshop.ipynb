{
 "cells": [
  {
   "cell_type": "code",
   "execution_count": 1,
   "id": "57ccadcd-86b5-4947-9345-af6497a4a25f",
   "metadata": {},
   "outputs": [],
   "source": [
    "import sys\n",
    "import pickle\n",
    "import random\n",
    "import numpy as np\n",
    "import pandas as pd\n",
    "import matplotlib.pyplot as plt\n",
    "from PIL import Image, ImageDraw"
   ]
  },
  {
   "cell_type": "code",
   "execution_count": 2,
   "id": "b4efd299-7af8-48ad-a637-c29d39ffed6d",
   "metadata": {},
   "outputs": [
    {
     "name": "stdout",
     "output_type": "stream",
     "text": [
      "Pickle file read successfully\n",
      "CPU times: user 34.9 s, sys: 2.5 s, total: 37.4 s\n",
      "Wall time: 37.7 s\n"
     ]
    }
   ],
   "source": [
    "%%time\n",
    "try:\n",
    "    df = pd.read_pickle(r\"local_data/LSWMD.pkl\")\n",
    "    print(\"Pickle file read successfully\")\n",
    "except Exception as e:\n",
    "    print(f\"Error reading pickle file: {e}\")\n"
   ]
  },
  {
   "cell_type": "code",
   "execution_count": 3,
   "id": "046ca9eb-6d6a-4e54-a9df-43206377f2ef",
   "metadata": {},
   "outputs": [
    {
     "data": {
      "text/plain": [
       "811457"
      ]
     },
     "execution_count": 3,
     "metadata": {},
     "output_type": "execute_result"
    }
   ],
   "source": [
    "df.shape[0]"
   ]
  },
  {
   "cell_type": "code",
   "execution_count": 4,
   "id": "d2326eb2-e56c-4cf3-af89-5621a5068250",
   "metadata": {},
   "outputs": [
    {
     "data": {
      "text/plain": [
       "6"
      ]
     },
     "execution_count": 4,
     "metadata": {},
     "output_type": "execute_result"
    }
   ],
   "source": [
    "df.shape[1]"
   ]
  },
  {
   "cell_type": "code",
   "execution_count": 5,
   "id": "5839b4a8-19d3-454f-be32-42a604a1cb4d",
   "metadata": {},
   "outputs": [
    {
     "data": {
      "text/plain": [
       "waferMap          811457\n",
       "dieSize           811457\n",
       "lotName           811457\n",
       "waferIndex        811457\n",
       "trianTestLabel    811457\n",
       "failureType       811457\n",
       "dtype: int64"
      ]
     },
     "execution_count": 5,
     "metadata": {},
     "output_type": "execute_result"
    }
   ],
   "source": [
    "df.count()"
   ]
  },
  {
   "cell_type": "code",
   "execution_count": 6,
   "id": "d7842662-aaff-49ad-b64f-1cf3c4e672c9",
   "metadata": {},
   "outputs": [
    {
     "name": "stdout",
     "output_type": "stream",
     "text": [
      "<class 'pandas.core.frame.DataFrame'>\n",
      "RangeIndex: 811457 entries, 0 to 811456\n",
      "Data columns (total 6 columns):\n",
      " #   Column          Non-Null Count   Dtype  \n",
      "---  ------          --------------   -----  \n",
      " 0   waferMap        811457 non-null  object \n",
      " 1   dieSize         811457 non-null  float64\n",
      " 2   lotName         811457 non-null  object \n",
      " 3   waferIndex      811457 non-null  float64\n",
      " 4   trianTestLabel  811457 non-null  object \n",
      " 5   failureType     811457 non-null  object \n",
      "dtypes: float64(2), object(4)\n",
      "memory usage: 37.1+ MB\n"
     ]
    }
   ],
   "source": [
    "df.info()"
   ]
  },
  {
   "cell_type": "code",
   "execution_count": 7,
   "id": "0c2e985d-2fe2-4e56-9cfc-ccf89a5be58f",
   "metadata": {},
   "outputs": [
    {
     "data": {
      "text/html": [
       "<div>\n",
       "<style scoped>\n",
       "    .dataframe tbody tr th:only-of-type {\n",
       "        vertical-align: middle;\n",
       "    }\n",
       "\n",
       "    .dataframe tbody tr th {\n",
       "        vertical-align: top;\n",
       "    }\n",
       "\n",
       "    .dataframe thead th {\n",
       "        text-align: right;\n",
       "    }\n",
       "</style>\n",
       "<table border=\"1\" class=\"dataframe\">\n",
       "  <thead>\n",
       "    <tr style=\"text-align: right;\">\n",
       "      <th></th>\n",
       "      <th>waferMap</th>\n",
       "      <th>dieSize</th>\n",
       "      <th>lotName</th>\n",
       "      <th>waferIndex</th>\n",
       "      <th>trianTestLabel</th>\n",
       "      <th>failureType</th>\n",
       "    </tr>\n",
       "  </thead>\n",
       "  <tbody>\n",
       "    <tr>\n",
       "      <th>0</th>\n",
       "      <td>[[0, 0, 0, 0, 0, 0, 0, 0, 0, 0, 0, 0, 0, 0, 0,...</td>\n",
       "      <td>1683.0</td>\n",
       "      <td>lot1</td>\n",
       "      <td>1.0</td>\n",
       "      <td>[[Training]]</td>\n",
       "      <td>[[none]]</td>\n",
       "    </tr>\n",
       "    <tr>\n",
       "      <th>1</th>\n",
       "      <td>[[0, 0, 0, 0, 0, 0, 0, 0, 0, 0, 0, 0, 0, 0, 0,...</td>\n",
       "      <td>1683.0</td>\n",
       "      <td>lot1</td>\n",
       "      <td>2.0</td>\n",
       "      <td>[[Training]]</td>\n",
       "      <td>[[none]]</td>\n",
       "    </tr>\n",
       "    <tr>\n",
       "      <th>2</th>\n",
       "      <td>[[0, 0, 0, 0, 0, 0, 0, 0, 0, 0, 0, 0, 0, 0, 0,...</td>\n",
       "      <td>1683.0</td>\n",
       "      <td>lot1</td>\n",
       "      <td>3.0</td>\n",
       "      <td>[[Training]]</td>\n",
       "      <td>[[none]]</td>\n",
       "    </tr>\n",
       "    <tr>\n",
       "      <th>3</th>\n",
       "      <td>[[0, 0, 0, 0, 0, 0, 0, 0, 0, 0, 0, 0, 0, 0, 0,...</td>\n",
       "      <td>1683.0</td>\n",
       "      <td>lot1</td>\n",
       "      <td>4.0</td>\n",
       "      <td>[[Training]]</td>\n",
       "      <td>[[none]]</td>\n",
       "    </tr>\n",
       "    <tr>\n",
       "      <th>4</th>\n",
       "      <td>[[0, 0, 0, 0, 0, 0, 0, 0, 0, 0, 0, 0, 0, 0, 0,...</td>\n",
       "      <td>1683.0</td>\n",
       "      <td>lot1</td>\n",
       "      <td>5.0</td>\n",
       "      <td>[[Training]]</td>\n",
       "      <td>[[none]]</td>\n",
       "    </tr>\n",
       "    <tr>\n",
       "      <th>...</th>\n",
       "      <td>...</td>\n",
       "      <td>...</td>\n",
       "      <td>...</td>\n",
       "      <td>...</td>\n",
       "      <td>...</td>\n",
       "      <td>...</td>\n",
       "    </tr>\n",
       "    <tr>\n",
       "      <th>811452</th>\n",
       "      <td>[[0, 0, 0, 0, 0, 0, 0, 0, 0, 0, 0, 1, 2, 1, 1,...</td>\n",
       "      <td>600.0</td>\n",
       "      <td>lot47542</td>\n",
       "      <td>23.0</td>\n",
       "      <td>[[Test]]</td>\n",
       "      <td>[[Edge-Ring]]</td>\n",
       "    </tr>\n",
       "    <tr>\n",
       "      <th>811453</th>\n",
       "      <td>[[0, 0, 0, 0, 0, 0, 0, 0, 0, 0, 0, 2, 2, 1, 1,...</td>\n",
       "      <td>600.0</td>\n",
       "      <td>lot47542</td>\n",
       "      <td>24.0</td>\n",
       "      <td>[[Test]]</td>\n",
       "      <td>[[Edge-Loc]]</td>\n",
       "    </tr>\n",
       "    <tr>\n",
       "      <th>811454</th>\n",
       "      <td>[[0, 0, 0, 0, 0, 0, 0, 0, 0, 0, 0, 1, 2, 1, 1,...</td>\n",
       "      <td>600.0</td>\n",
       "      <td>lot47542</td>\n",
       "      <td>25.0</td>\n",
       "      <td>[[Test]]</td>\n",
       "      <td>[[Edge-Ring]]</td>\n",
       "    </tr>\n",
       "    <tr>\n",
       "      <th>811455</th>\n",
       "      <td>[[0, 0, 0, 0, 0, 0, 0, 0, 0, 0, 0, 1, 1, 1, 1,...</td>\n",
       "      <td>600.0</td>\n",
       "      <td>lot47543</td>\n",
       "      <td>1.0</td>\n",
       "      <td>[]</td>\n",
       "      <td>[]</td>\n",
       "    </tr>\n",
       "    <tr>\n",
       "      <th>811456</th>\n",
       "      <td>[[0, 0, 0, 0, 0, 0, 0, 0, 0, 0, 0, 1, 2, 1, 1,...</td>\n",
       "      <td>600.0</td>\n",
       "      <td>lot47543</td>\n",
       "      <td>2.0</td>\n",
       "      <td>[]</td>\n",
       "      <td>[]</td>\n",
       "    </tr>\n",
       "  </tbody>\n",
       "</table>\n",
       "<p>811457 rows × 6 columns</p>\n",
       "</div>"
      ],
      "text/plain": [
       "                                                 waferMap  dieSize   lotName  \\\n",
       "0       [[0, 0, 0, 0, 0, 0, 0, 0, 0, 0, 0, 0, 0, 0, 0,...   1683.0      lot1   \n",
       "1       [[0, 0, 0, 0, 0, 0, 0, 0, 0, 0, 0, 0, 0, 0, 0,...   1683.0      lot1   \n",
       "2       [[0, 0, 0, 0, 0, 0, 0, 0, 0, 0, 0, 0, 0, 0, 0,...   1683.0      lot1   \n",
       "3       [[0, 0, 0, 0, 0, 0, 0, 0, 0, 0, 0, 0, 0, 0, 0,...   1683.0      lot1   \n",
       "4       [[0, 0, 0, 0, 0, 0, 0, 0, 0, 0, 0, 0, 0, 0, 0,...   1683.0      lot1   \n",
       "...                                                   ...      ...       ...   \n",
       "811452  [[0, 0, 0, 0, 0, 0, 0, 0, 0, 0, 0, 1, 2, 1, 1,...    600.0  lot47542   \n",
       "811453  [[0, 0, 0, 0, 0, 0, 0, 0, 0, 0, 0, 2, 2, 1, 1,...    600.0  lot47542   \n",
       "811454  [[0, 0, 0, 0, 0, 0, 0, 0, 0, 0, 0, 1, 2, 1, 1,...    600.0  lot47542   \n",
       "811455  [[0, 0, 0, 0, 0, 0, 0, 0, 0, 0, 0, 1, 1, 1, 1,...    600.0  lot47543   \n",
       "811456  [[0, 0, 0, 0, 0, 0, 0, 0, 0, 0, 0, 1, 2, 1, 1,...    600.0  lot47543   \n",
       "\n",
       "        waferIndex trianTestLabel    failureType  \n",
       "0              1.0   [[Training]]       [[none]]  \n",
       "1              2.0   [[Training]]       [[none]]  \n",
       "2              3.0   [[Training]]       [[none]]  \n",
       "3              4.0   [[Training]]       [[none]]  \n",
       "4              5.0   [[Training]]       [[none]]  \n",
       "...            ...            ...            ...  \n",
       "811452        23.0       [[Test]]  [[Edge-Ring]]  \n",
       "811453        24.0       [[Test]]   [[Edge-Loc]]  \n",
       "811454        25.0       [[Test]]  [[Edge-Ring]]  \n",
       "811455         1.0             []             []  \n",
       "811456         2.0             []             []  \n",
       "\n",
       "[811457 rows x 6 columns]"
      ]
     },
     "metadata": {},
     "output_type": "display_data"
    }
   ],
   "source": [
    "display(df)"
   ]
  },
  {
   "cell_type": "code",
   "execution_count": null,
   "id": "57550c2c-83fc-4516-9887-1b5575237342",
   "metadata": {},
   "outputs": [],
   "source": [
    "print(f\"Total records: {len(df)}\")\n",
    "print(f\"Datafram shape: {df.shape}\")"
   ]
  },
  {
   "cell_type": "code",
   "execution_count": null,
   "id": "bc20658d-1ba4-4756-8643-069cc2521520",
   "metadata": {},
   "outputs": [],
   "source": [
    "%%time\n",
    "labeled = list()\n",
    "unlabeled = list()\n",
    "\n",
    "for i, row in df.iterrows():\n",
    "    label = failureType = None\n",
    "    try:\n",
    "        if row['trianTestLabel'][0][0]:\n",
    "            label = row['trianTestLabel'][0][0]\n",
    "        if row['failureType'][0][0]:\n",
    "            failureType =  row['failureType'][0][0]\n",
    "        labeled.append([row['waferMap'], row['dieSize'], row['lotName'], row['waferIndex'], label, failureType])\n",
    "    except:\n",
    "        unlabeled.append([row['waferMap'], row['dieSize'], row['lotName'], row['waferIndex'], label, failureType])\n",
    "        \n",
    "df_labeled = pd.DataFrame(labeled, columns=['waferMap', 'dieSize', 'lotName', 'waferIndex', 'label', 'failureType'])\n",
    "df_unlabeled = pd.DataFrame(unlabeled, columns=['waferMap', 'dieSize', 'lotName', 'waferIndex', 'label', 'failureType'])"
   ]
  },
  {
   "cell_type": "code",
   "execution_count": null,
   "id": "be051c52-13ce-4a65-92cf-effd8be6608e",
   "metadata": {},
   "outputs": [],
   "source": [
    "df_labeled.count()"
   ]
  },
  {
   "cell_type": "code",
   "execution_count": null,
   "id": "28ff1682-4708-442b-ab3f-d5878574c921",
   "metadata": {},
   "outputs": [],
   "source": [
    "df_unlabeled.count()"
   ]
  },
  {
   "cell_type": "code",
   "execution_count": null,
   "id": "9184bf3d-2663-4f0d-a957-e2f086ec2222",
   "metadata": {},
   "outputs": [],
   "source": [
    "172950 + 638507"
   ]
  },
  {
   "cell_type": "code",
   "execution_count": null,
   "id": "71feb3ba-002f-4af7-b3d3-b7cda8967a01",
   "metadata": {},
   "outputs": [],
   "source": [
    "display(df_labeled)"
   ]
  },
  {
   "cell_type": "code",
   "execution_count": null,
   "id": "5a67d7f9-28a6-4361-8cae-98b874ffb4f7",
   "metadata": {},
   "outputs": [],
   "source": [
    "print(*df_labeled['failureType'].unique(), sep=\"\\n\")"
   ]
  },
  {
   "cell_type": "code",
   "execution_count": null,
   "id": "c42f23f6-7030-45d3-9e79-c3d098bdf229",
   "metadata": {},
   "outputs": [],
   "source": [
    "df_labeled['failureType'].value_counts()"
   ]
  },
  {
   "cell_type": "code",
   "execution_count": null,
   "id": "4760f1a8-37dd-4033-b5ae-df6ee7fdb4fe",
   "metadata": {},
   "outputs": [],
   "source": [
    "df.sort_values(by='dieSize', ascending=False)"
   ]
  },
  {
   "cell_type": "code",
   "execution_count": null,
   "id": "3efb28cf-e370-4e6f-8d8d-1b9e3d03e0fd",
   "metadata": {},
   "outputs": [],
   "source": [
    "print(df['trianTestLabel'][42][0][0])\n",
    "print(df['failureType'][42][0][0])"
   ]
  },
  {
   "cell_type": "code",
   "execution_count": null,
   "id": "e70c943d-1fca-4b3d-8cb7-b17bd5f2bd17",
   "metadata": {},
   "outputs": [],
   "source": [
    "print(df.iloc[42])"
   ]
  },
  {
   "cell_type": "code",
   "execution_count": null,
   "id": "f44a84cd-1641-4ae5-98c4-99fe14e7cc71",
   "metadata": {},
   "outputs": [],
   "source": [
    "df.waferMap[42]"
   ]
  },
  {
   "cell_type": "code",
   "execution_count": null,
   "id": "16dd21b7-9cb0-4b75-84d6-1dce5720f1a9",
   "metadata": {},
   "outputs": [],
   "source": [
    "plt.imshow(df.waferMap[42], 'cividis')"
   ]
  },
  {
   "cell_type": "code",
   "execution_count": null,
   "id": "244dae1c-aeea-4348-b5ea-4b33fa932300",
   "metadata": {},
   "outputs": [],
   "source": [
    "for row in df.waferMap[42]:\n",
    "    print(*row)"
   ]
  },
  {
   "cell_type": "code",
   "execution_count": null,
   "id": "3b59a192-a6e3-47cc-af70-3a37a7ab3b1d",
   "metadata": {},
   "outputs": [],
   "source": [
    "wafer_failures = dict()\n",
    "for f in df_labeled['failureType'].unique():\n",
    "    wafer_failures[f] = df_labeled[df_labeled['failureType'] == f]        "
   ]
  },
  {
   "cell_type": "code",
   "execution_count": null,
   "id": "c74d9a6f-814f-454c-8a21-abee032abf4c",
   "metadata": {},
   "outputs": [],
   "source": [
    "def show_samples(wafer, failureType) -> None:\n",
    "    \"\"\"Displays a sample of images for a failure type\n",
    "\n",
    "    input:\n",
    "      images: list() of images\n",
    "      \n",
    "      failureType: string:  \n",
    "            none\n",
    "            Loc\n",
    "            Edge-Loc\n",
    "            Center\n",
    "            Edge-Ring\n",
    "            Scratch\n",
    "            Random\n",
    "            Near-full\n",
    "            Donut\n",
    "\n",
    "    output: none - displays images\n",
    "\n",
    "    \"\"\"\n",
    "    # Create a figure and a grid of subplots\n",
    "    fig, axes = plt.subplots(1, 10, figsize=(20, 20))\n",
    "    \n",
    "    img_n=0\n",
    "    for i, row in wafer[failureType].sample(10).iterrows():\n",
    "    #for i, row in df_wafer_donut.sample(8).iterrows():\n",
    "        wafer_info = str(row['lotName']) + \"wfr\" + str(row['waferIndex'])\n",
    "        axes[img_n].imshow(row['waferMap'], 'cividis', extent=[0,100,0,1], aspect=100)\n",
    "        axes[img_n].set_title(wafer_info)\n",
    "        axes[img_n].set_xlabel(row['failureType'])\n",
    "        axes[img_n].get_xaxis().set_ticks([])\n",
    "        axes[img_n].get_yaxis().set_ticks([])\n",
    "        axes[img_n].axis('on')\n",
    "        img_n+=1\n",
    "\n",
    "    plt.show()\n",
    "    \n",
    "    # Show the plot"
   ]
  },
  {
   "cell_type": "code",
   "execution_count": null,
   "id": "86b44992-e384-4104-a564-f3e9354fc99d",
   "metadata": {},
   "outputs": [],
   "source": [
    "for f in df_labeled['failureType'].unique():\n",
    "    b_start='\\033[1m'\n",
    "    b_end='\\033[0m'\n",
    "    print(f\"{b_start}{f}{b_end}\")\n",
    "    show_samples(wafer_failures, f)"
   ]
  },
  {
   "cell_type": "code",
   "execution_count": null,
   "id": "df0c97cb-ac69-45e1-a8dc-e7d0b1813153",
   "metadata": {},
   "outputs": [],
   "source": [
    "print(df.isnull().sum())\n",
    "df.dropna() # Remove rows with missing values\n",
    "df.fillna(0) # Fill missing values"
   ]
  }
 ],
 "metadata": {
  "kernelspec": {
   "display_name": "Python 3 (ipykernel)",
   "language": "python",
   "name": "python3"
  },
  "language_info": {
   "codemirror_mode": {
    "name": "ipython",
    "version": 3
   },
   "file_extension": ".py",
   "mimetype": "text/x-python",
   "name": "python",
   "nbconvert_exporter": "python",
   "pygments_lexer": "ipython3",
   "version": "3.11.7"
  }
 },
 "nbformat": 4,
 "nbformat_minor": 5
}
